{
 "cells": [
  {
   "cell_type": "markdown",
   "metadata": {
    "colab_type": "text",
    "id": "bIzj0IUY_LFJ"
   },
   "source": [
    "# Exam\n",
    "\n",
    "Develop a model for predicting review rating.  \n",
    "**Binary classification:**  \n",
    "**positive class: target = 5**   \n",
    "**negative class: target = 1,2,3,4**  \n",
    "Score: **binary F1**  \n",
    "You are forbidden to use test dataset for any kind of training.  \n",
    "Remember proper training pipeline.  \n",
    "If you are not using default params in the models, you have to use some validation scheme to justify them. \n",
    "\n",
    "Use `random_state` or `seed` params - your experiment must be reprodusible.\n",
    "\n",
    "\n",
    "### 1 baseline = 0.720\n",
    "### 2 baseline = 0.745\n"
   ]
  },
  {
   "cell_type": "markdown",
   "metadata": {
    "colab_type": "text",
    "id": "UeAESrkRNyU5"
   },
   "source": [
    "4. Compare logistic regression and SVM: decision surface and robustness\n",
    "\n",
    "LogisticRegression строит поверхность таким образом, чтобы область 0х меток была как можно меньше, в отличие от SVM, который строит разделяющюю плоскость таким образом, чтобы она отделяла классы с наибольшим запасом.\n",
    "\n",
    "Vanilla SVM плохо устойчив к выбросам, так как сам метод нуждается в сильном предположении о разделимости классов. LogisticRegression, как и любая модель, базирующаяся на линейности, работает лучше при большей разделимости классов, в целом остро реагирует на выбросы."
   ]
  },
  {
   "cell_type": "code",
   "execution_count": 0,
   "metadata": {
    "colab": {},
    "colab_type": "code",
    "id": "423S_gzP_LFS"
   },
   "outputs": [],
   "source": [
    "import pandas as pd\n",
    "import numpy as np\n",
    "import matplotlib.pyplot as plt\n",
    "\n",
    "import nltk\n",
    "from collections import Counter\n",
    "from tqdm import tqdm as tqdm"
   ]
  },
  {
   "cell_type": "code",
   "execution_count": 2,
   "metadata": {
    "colab": {
     "base_uri": "https://localhost:8080/",
     "height": 122
    },
    "colab_type": "code",
    "id": "ZOMRFJnQ_PjI",
    "outputId": "96352c9c-0566-4576-9686-91554d7e5f23"
   },
   "outputs": [
    {
     "name": "stdout",
     "output_type": "stream",
     "text": [
      "Go to this URL in a browser: https://accounts.google.com/o/oauth2/auth?client_id=947318989803-6bn6qk8qdgf4n4g3pfee6491hc0brc4i.apps.googleusercontent.com&redirect_uri=urn%3aietf%3awg%3aoauth%3a2.0%3aoob&response_type=code&scope=email%20https%3a%2f%2fwww.googleapis.com%2fauth%2fdocs.test%20https%3a%2f%2fwww.googleapis.com%2fauth%2fdrive%20https%3a%2f%2fwww.googleapis.com%2fauth%2fdrive.photos.readonly%20https%3a%2f%2fwww.googleapis.com%2fauth%2fpeopleapi.readonly\n",
      "\n",
      "Enter your authorization code:\n",
      "··········\n",
      "Mounted at /content/drive\n"
     ]
    }
   ],
   "source": [
    "from google.colab import drive\n",
    "drive.mount('/content/drive')"
   ]
  },
  {
   "cell_type": "code",
   "execution_count": 0,
   "metadata": {
    "colab": {},
    "colab_type": "code",
    "id": "LIKpJV31_aXm"
   },
   "outputs": [],
   "source": [
    "!mkdir exam_data/\n",
    "!cp drive/My\\ Drive/exam/exam_data/train.csv exam_data/\n",
    "!cp drive/My\\ Drive/exam/exam_data/test.csv exam_data/"
   ]
  },
  {
   "cell_type": "code",
   "execution_count": 0,
   "metadata": {
    "colab": {},
    "colab_type": "code",
    "id": "tAmsjxX1_LFg"
   },
   "outputs": [],
   "source": [
    "df_train = pd.read_csv('exam_data/train.csv')\n",
    "df_test = pd.read_csv('exam_data/test.csv')\n",
    "\n",
    "df_train['target'] = (df_train['target'] == 5).astype(np.int)\n",
    "df_test['target'] = (df_test['target'] == 5).astype(np.int)"
   ]
  },
  {
   "cell_type": "code",
   "execution_count": 3,
   "metadata": {
    "colab": {
     "base_uri": "https://localhost:8080/",
     "height": 204
    },
    "colab_type": "code",
    "id": "gG5BWojZ_LFk",
    "outputId": "efea98e9-4312-41b0-9d12-d9d15035da0f"
   },
   "outputs": [
    {
     "data": {
      "text/html": [
       "<div>\n",
       "<style scoped>\n",
       "    .dataframe tbody tr th:only-of-type {\n",
       "        vertical-align: middle;\n",
       "    }\n",
       "\n",
       "    .dataframe tbody tr th {\n",
       "        vertical-align: top;\n",
       "    }\n",
       "\n",
       "    .dataframe thead th {\n",
       "        text-align: right;\n",
       "    }\n",
       "</style>\n",
       "<table border=\"1\" class=\"dataframe\">\n",
       "  <thead>\n",
       "    <tr style=\"text-align: right;\">\n",
       "      <th></th>\n",
       "      <th>review</th>\n",
       "      <th>title</th>\n",
       "      <th>target</th>\n",
       "    </tr>\n",
       "  </thead>\n",
       "  <tbody>\n",
       "    <tr>\n",
       "      <th>0</th>\n",
       "      <td>The staff was very friendly, the breakfast ver...</td>\n",
       "      <td>Walker Gem</td>\n",
       "      <td>1</td>\n",
       "    </tr>\n",
       "    <tr>\n",
       "      <th>1</th>\n",
       "      <td>Excellent service - very approachable and prof...</td>\n",
       "      <td>Excellent Service</td>\n",
       "      <td>0</td>\n",
       "    </tr>\n",
       "    <tr>\n",
       "      <th>2</th>\n",
       "      <td>Really a top notch place to spend a day at the...</td>\n",
       "      <td>Good location, warm and friendly staff</td>\n",
       "      <td>1</td>\n",
       "    </tr>\n",
       "    <tr>\n",
       "      <th>3</th>\n",
       "      <td>a little noisy, there was a false fire alarm a...</td>\n",
       "      <td>nice hotel,</td>\n",
       "      <td>0</td>\n",
       "    </tr>\n",
       "    <tr>\n",
       "      <th>4</th>\n",
       "      <td>Place had too many animals and I'm allergic to...</td>\n",
       "      <td>Experience</td>\n",
       "      <td>0</td>\n",
       "    </tr>\n",
       "  </tbody>\n",
       "</table>\n",
       "</div>"
      ],
      "text/plain": [
       "                                              review  ... target\n",
       "0  The staff was very friendly, the breakfast ver...  ...      1\n",
       "1  Excellent service - very approachable and prof...  ...      0\n",
       "2  Really a top notch place to spend a day at the...  ...      1\n",
       "3  a little noisy, there was a false fire alarm a...  ...      0\n",
       "4  Place had too many animals and I'm allergic to...  ...      0\n",
       "\n",
       "[5 rows x 3 columns]"
      ]
     },
     "execution_count": 3,
     "metadata": {
      "tags": []
     },
     "output_type": "execute_result"
    }
   ],
   "source": [
    "df_train.head()"
   ]
  },
  {
   "cell_type": "markdown",
   "metadata": {
    "colab_type": "text",
    "id": "P2-2Er-7_LFp"
   },
   "source": [
    "### Preprocessing"
   ]
  },
  {
   "cell_type": "code",
   "execution_count": 0,
   "metadata": {
    "colab": {},
    "colab_type": "code",
    "id": "MSG8hf_p_LFr"
   },
   "outputs": [],
   "source": [
    "punctuation = '!\"#$%&()*+-/:;<=>?@[\\\\]^_`{|}~'\n",
    "df_train['clean_review'] = df_train['review'].apply(lambda x: ''.join(ch for ch in x if ch not in set(punctuation)))\n",
    "df_train['clean_review'] = df_train['clean_review'].str.lower()\n",
    "df_train['clean_review'] = df_train['clean_review'].apply(lambda x:' '.join(x.split()))\n",
    "\n",
    "df_test['clean_review'] = df_test['review'].apply(lambda x: ''.join(ch for ch in x if ch not in set(punctuation)))\n",
    "df_test['clean_review'] = df_test['clean_review'].str.lower()\n",
    "df_test['clean_review'] = df_test['clean_review'].apply(lambda x:' '.join(x.split()))\n"
   ]
  },
  {
   "cell_type": "code",
   "execution_count": 0,
   "metadata": {
    "colab": {},
    "colab_type": "code",
    "id": "e0sAlr9n_LFy"
   },
   "outputs": [],
   "source": [
    "text_columns = [\"title\", \"clean_review\"]\n",
    "target_column = \"target\"\n"
   ]
  },
  {
   "cell_type": "code",
   "execution_count": 6,
   "metadata": {
    "colab": {
     "base_uri": "https://localhost:8080/",
     "height": 34
    },
    "colab_type": "code",
    "id": "VDjZpCcg_LF1",
    "outputId": "58c8d1f6-1792-473e-97bb-2422e2e37b13"
   },
   "outputs": [
    {
     "name": "stderr",
     "output_type": "stream",
     "text": [
      "48192it [00:05, 9629.58it/s]\n"
     ]
    }
   ],
   "source": [
    "tokenizer = nltk.tokenize.WordPunctTokenizer()\n",
    "# see task above\n",
    "def normalize(text):\n",
    "    text = str(text).lower()\n",
    "    return ' '.join(tokenizer.tokenize(text))\n",
    "    \n",
    "df_train[text_columns] = df_train[text_columns].applymap(normalize)\n",
    "df_test[text_columns] = df_test[text_columns].applymap(normalize)\n",
    "\n",
    "\n",
    "token_counts = Counter()\n",
    "\n",
    "for _, row in tqdm(df_train[text_columns].iterrows()):\n",
    "    for string in row:\n",
    "        token_counts.update(string.split())"
   ]
  },
  {
   "cell_type": "code",
   "execution_count": 8,
   "metadata": {
    "colab": {
     "base_uri": "https://localhost:8080/",
     "height": 34
    },
    "colab_type": "code",
    "id": "POKMRprF_LF4",
    "outputId": "418de56a-ef0c-44e0-a4dd-dbe535dbb205"
   },
   "outputs": [
    {
     "name": "stdout",
     "output_type": "stream",
     "text": [
      "Vocabulary size: 12578\n"
     ]
    }
   ],
   "source": [
    "min_count = 5\n",
    "\n",
    "tokens = [token for token, count in token_counts.items() if count >= min_count]\n",
    "\n",
    "UNK, PAD = \"UNK\", \"PAD\"\n",
    "tokens = [UNK, PAD] + sorted(tokens)\n",
    "print(\"Vocabulary size:\", len(tokens))"
   ]
  },
  {
   "cell_type": "code",
   "execution_count": 0,
   "metadata": {
    "colab": {},
    "colab_type": "code",
    "id": "wWXp1j0y_LF8"
   },
   "outputs": [],
   "source": [
    "token_to_id = {token: idx for idx, token in enumerate(tokens)}"
   ]
  },
  {
   "cell_type": "code",
   "execution_count": 0,
   "metadata": {
    "colab": {},
    "colab_type": "code",
    "id": "4q8vG5B4_LGA"
   },
   "outputs": [],
   "source": [
    "UNK_IX, PAD_IX = map(token_to_id.get, [UNK, PAD])\n",
    "\n",
    "def as_matrix(sequences, max_len=None):\n",
    "    if isinstance(sequences[0], str):\n",
    "        sequences = list(map(str.split, sequences))\n",
    "        \n",
    "    max_len = min(max(map(len, sequences)), max_len or float('inf'))\n",
    "    \n",
    "    matrix = np.full((len(sequences), max_len), np.int32(PAD_IX))\n",
    "    for i, seq in enumerate(sequences):\n",
    "        row_ix = [token_to_id.get(word, UNK_IX) for word in seq[:max_len]]\n",
    "        matrix[i, :len(row_ix)] = row_ix\n",
    "    \n",
    "    return matrix"
   ]
  },
  {
   "cell_type": "code",
   "execution_count": 11,
   "metadata": {
    "colab": {
     "base_uri": "https://localhost:8080/",
     "height": 360
    },
    "colab_type": "code",
    "id": "a3wS8gls_LGE",
    "outputId": "deeca282-0567-4713-b2f8-393b0f1b8d3f"
   },
   "outputs": [
    {
     "name": "stdout",
     "output_type": "stream",
     "text": [
      "Lines:\n",
      "the staff was very friendly , the breakfast very nice . extremely comfortable beds .\n",
      "this hotel is in a great locations and was excellent for the price . right next to the gallaria . doug , were glad you stayed at our location while attending an event at the cobb galleria center . while price is important to the hotel success we understand our customer is the reason we are in business . please feel free to stay with our wingate brand locations in the near future . willis blake dos\n",
      "\n",
      "Matrix:\n",
      "[[11152 10548 12145 11955  4816    27 11152  1809 11955  7575    37  4343\n",
      "   2607  1461    37     1     1     1     1     1     1     1     1     1\n",
      "      1     1     1     1     1     1     1     1     1     1     1     1\n",
      "      1     1     1     1     1     1     1     1     1     1     1     1\n",
      "      1     1     1     1     1     1     1     1     1     1     1     1\n",
      "      1     1     1     1     1     1     1     1     1     1     1     1\n",
      "      1     1     1     1     1]\n",
      " [11194  5616  6055  5816   461  5143  6681   881 12145  4238  4695 11152\n",
      "   8631    37  9441  7567 11294 11152     0    37  3707    27 12251  5017\n",
      "  12506 10624  1143  7943  6680 12282  1176   874  4199  1143 11152  2540\n",
      "   4905  2222    37 12282  8631  6055  5800 11294 11152  5616 10797 12185\n",
      "  11661  7943  3130  6055 11152  8996 12185  1036  5816  1973    37  8433\n",
      "   4470  4770 11294 10619 12368  7943 12341  1796  6681  5816 11152  7496\n",
      "   4887    37 12326  1635  3697]]\n"
     ]
    }
   ],
   "source": [
    "print(\"Lines:\")\n",
    "print('\\n'.join(df_train[\"clean_review\"][::30000].values), end='\\n\\n')\n",
    "print(\"Matrix:\")\n",
    "print(as_matrix(df_train[\"clean_review\"][::30000]))"
   ]
  },
  {
   "cell_type": "code",
   "execution_count": 0,
   "metadata": {
    "colab": {},
    "colab_type": "code",
    "id": "g810f-q3_LGG"
   },
   "outputs": [],
   "source": [
    "def make_batch(data, max_len=None, word_dropout=0):\n",
    "\n",
    "    batch = {}\n",
    "    batch[\"title\"] = as_matrix(data[\"title\"].values, max_len)\n",
    "    batch[\"review\"] = as_matrix(data[\"clean_review\"].values, max_len)\n",
    "    \n",
    "    if word_dropout != 0:\n",
    "        batch[\"review\"] = apply_word_dropout(batch[\"review\"], 1. - word_dropout)\n",
    "    \n",
    "    if target_column in data.columns:\n",
    "        batch[target_column] = data[target_column].values\n",
    "    \n",
    "    return batch\n",
    "\n",
    "def apply_word_dropout(matrix, keep_prop, replace_with=UNK_IX, pad_ix=PAD_IX,):\n",
    "    dropout_mask = np.random.choice(2, np.shape(matrix), p=[keep_prop, 1 - keep_prop])\n",
    "    dropout_mask &= matrix != pad_ix\n",
    "    return np.choose(dropout_mask, [matrix, np.full_like(matrix, replace_with)])"
   ]
  },
  {
   "cell_type": "code",
   "execution_count": 0,
   "metadata": {
    "colab": {},
    "colab_type": "code",
    "id": "G_H_1SFi_LGI"
   },
   "outputs": [],
   "source": [
    "b_0 = make_batch(df_train[:3], max_len=10)"
   ]
  },
  {
   "cell_type": "code",
   "execution_count": 0,
   "metadata": {
    "colab": {},
    "colab_type": "code",
    "id": "qks6eslx_LGL"
   },
   "outputs": [],
   "source": [
    "def iterate_minibatches(data, batch_size=256, shuffle=True, cycle=False, **kwargs):\n",
    "    while True:\n",
    "        indices = np.arange(len(data))\n",
    "        if shuffle:\n",
    "            indices = np.random.permutation(indices)\n",
    "\n",
    "        for start in range(0, len(indices), batch_size):\n",
    "            batch = make_batch(data.iloc[indices[start : start + batch_size]], **kwargs)\n",
    "            target = batch.pop(target_column)\n",
    "            yield batch, target\n",
    "        \n",
    "        if not cycle: break"
   ]
  },
  {
   "cell_type": "code",
   "execution_count": 0,
   "metadata": {
    "colab": {},
    "colab_type": "code",
    "id": "l7LKHk6t_LGM"
   },
   "outputs": [],
   "source": [
    "from sklearn.metrics import f1_score"
   ]
  },
  {
   "cell_type": "code",
   "execution_count": 0,
   "metadata": {
    "colab": {},
    "colab_type": "code",
    "id": "LYyS7pUT_LGO"
   },
   "outputs": [],
   "source": [
    "import torch\n",
    "from torch import nn\n",
    "import torch.nn.functional as F"
   ]
  },
  {
   "cell_type": "code",
   "execution_count": 0,
   "metadata": {
    "colab": {},
    "colab_type": "code",
    "id": "F1EXr4H5_LGQ"
   },
   "outputs": [],
   "source": [
    "device = 'cuda' if torch.cuda.is_available() else 'cpu'"
   ]
  },
  {
   "cell_type": "code",
   "execution_count": 0,
   "metadata": {
    "colab": {},
    "colab_type": "code",
    "id": "l306wB4V_LGS"
   },
   "outputs": [],
   "source": [
    "class TwoInputsNet(nn.Module):\n",
    "    def __init__(self, n_tokens, concat_number_of_features, hid_size=64):\n",
    "        super(TwoInputsNet, self).__init__()\n",
    "        self.title_emb = nn.Embedding(n_tokens, embedding_dim=hid_size)\n",
    "        self.title_conv = nn.Conv1d(hid_size, hid_size, padding=1, kernel_size=3)\n",
    "        self.title_pool = nn.AdaptiveMaxPool1d(5)\n",
    "\n",
    "        self.full_emb = nn.Embedding(num_embeddings=n_tokens, embedding_dim=hid_size)\n",
    "        self.full_conv = nn.Conv1d(hid_size, hid_size, kernel_size=7, padding=3)\n",
    "        self.full_pool = nn.AdaptiveMaxPool1d(hid_size)\n",
    "        self.full_conv2 = nn.Conv1d(hid_size, hid_size*2, kernel_size=5, padding=2)\n",
    "        self.full_pool2 = nn.AdaptiveMaxPool1d(8)\n",
    "        \n",
    "        self.inter_dense = nn.Linear(in_features=concat_number_of_features, out_features=hid_size*2)\n",
    "        self.bn1 = nn.BatchNorm1d(num_features=hid_size*2)\n",
    "        self.final_dense = nn.Linear(in_features=hid_size*2, out_features=1)\n",
    "\n",
    "        self.forw = nn.Sigmoid()\n",
    "\n",
    "    def forward(self, whole_input):\n",
    "        input1, input2 = whole_input\n",
    "        title_beg = self.title_emb(input1).permute((0, 2, 1))\n",
    "        title = self.title_pool(self.title_conv(title_beg))\n",
    "\n",
    "        full_beg = self.full_emb(input2).permute((0, 2, 1))\n",
    "        full = self.full_pool(self.full_conv(full_beg))\n",
    "        full = self.full_pool2(self.full_conv2(full))\n",
    "\n",
    "        concatenated = torch.cat(\n",
    "            [\n",
    "            title.view(title.size(0), -1),\n",
    "            full.view(full.size(0), -1),\n",
    "            ],\n",
    "            dim=1)\n",
    "        \n",
    "        out = self.final_dense(F.relu(self.inter_dense(concatenated)))\n",
    "        out = self.forw(out)\n",
    "        return out"
   ]
  },
  {
   "cell_type": "code",
   "execution_count": 0,
   "metadata": {
    "colab": {},
    "colab_type": "code",
    "id": "4U5BrsPQLJm1"
   },
   "outputs": [],
   "source": [
    "np.random.seed(0)\n",
    "torch.manual_seed(0)\n",
    "\n",
    "torch.backends.cudnn.deterministic = True\n",
    "torch.backends.cudnn.benchmark = False"
   ]
  },
  {
   "cell_type": "code",
   "execution_count": 136,
   "metadata": {
    "colab": {
     "base_uri": "https://localhost:8080/",
     "height": 71
    },
    "colab_type": "code",
    "id": "M_fsVx0c_LGU",
    "outputId": "b7567c26-1e5c-402d-c962-6ba06a986a6f"
   },
   "outputs": [
    {
     "name": "stderr",
     "output_type": "stream",
     "text": [
      "/usr/local/lib/python3.6/dist-packages/ipykernel_launcher.py:15: UserWarning: nn.init.xavier_uniform is now deprecated in favor of nn.init.xavier_uniform_.\n",
      "  from ipykernel import kernelapp as app\n"
     ]
    }
   ],
   "source": [
    "model = TwoInputsNet(\n",
    "    n_tokens=len(tokens),\n",
    "    \n",
    "    # title: max_len*hid_size/2 = 5*64\n",
    "    # review: 128 * 8\n",
    "    # sum is 1024 + 320\n",
    "    \n",
    "    concat_number_of_features=1344\n",
    ")\n",
    "\n",
    "def init_weights(m):\n",
    "    \n",
    "    for name, p in m.named_parameters():\n",
    "        if p.dim() > 1:\n",
    "          nn.init.xavier_uniform(p.data)\n",
    "        \n",
    "model.apply(init_weights);"
   ]
  },
  {
   "cell_type": "code",
   "execution_count": 0,
   "metadata": {
    "colab": {},
    "colab_type": "code",
    "id": "2CzPsNp5_LGc"
   },
   "outputs": [],
   "source": [
    "model.to(device);\n",
    "\n",
    "torch.cuda.empty_cache()"
   ]
  },
  {
   "cell_type": "code",
   "execution_count": 138,
   "metadata": {
    "colab": {
     "base_uri": "https://localhost:8080/",
     "height": 265
    },
    "colab_type": "code",
    "id": "bicHZ0Fl_LGd",
    "outputId": "5e81d160-353d-4635-8d18-aabc25d75225"
   },
   "outputs": [
    {
     "data": {
      "image/png": "[encoded data removed]",
      "text/plain": [
       "<Figure size 432x288 with 1 Axes>"
      ]
     },
     "metadata": {
      "tags": []
     },
     "output_type": "display_data"
    }
   ],
   "source": [
    "from IPython.display import clear_output\n",
    "from random import sample\n",
    "\n",
    "batch_size = 32\n",
    "\n",
    "opt = torch.optim.Adam(model.parameters())\n",
    "loss_func = nn.BCELoss().to(device)\n",
    "\n",
    "history = []\n",
    "epochs = 10\n",
    "\n",
    "for epoch_num in range(epochs):\n",
    "    for idx, (batch, target) in enumerate(iterate_minibatches(df_train, batch_size)):\n",
    "        \n",
    "        to_model = [\n",
    "                    torch.tensor(batch['title'], dtype=torch.long).to(device),\n",
    "                    torch.tensor(batch['review'], dtype=torch.long).to(device)\n",
    "                    ]\n",
    "        \n",
    "        target = torch.tensor(target, dtype=torch.float).view(-1, 1).to(device)\n",
    "        predictions = model(to_model)\n",
    "        loss = loss_func(predictions, target)\n",
    "\n",
    "        loss.backward()\n",
    "        opt.step()\n",
    "        opt.zero_grad()\n",
    "\n",
    "        history.append(loss.cpu().data.numpy())\n",
    "        if (idx+1)%100==0:\n",
    "            clear_output(True)\n",
    "            plt.plot(history,label='loss')\n",
    "            plt.legend()\n",
    "            plt.show()"
   ]
  },
  {
   "cell_type": "code",
   "execution_count": 0,
   "metadata": {
    "colab": {},
    "colab_type": "code",
    "id": "1E-qDFHc_LGg"
   },
   "outputs": [],
   "source": [
    "model.eval()\n",
    "\n",
    "for idx, (batch, target) in enumerate(iterate_minibatches(df_test, len(df_test))):\n",
    "    to_model = [\n",
    "                    torch.tensor(batch['title'], dtype=torch.long).to(device),\n",
    "                    torch.tensor(batch['review'], dtype=torch.long).to(device)\n",
    "                    ]\n",
    "        \n",
    "    target = torch.tensor(target, dtype=torch.float).view(-1, 1)\n",
    "    predictions = model(to_model)"
   ]
  },
  {
   "cell_type": "code",
   "execution_count": 0,
   "metadata": {
    "colab": {},
    "colab_type": "code",
    "id": "lgGXAIfUFPk7"
   },
   "outputs": [],
   "source": [
    "y_true = target.detach().numpy()"
   ]
  },
  {
   "cell_type": "code",
   "execution_count": 0,
   "metadata": {
    "colab": {},
    "colab_type": "code",
    "id": "n2ihu7QKFjaC"
   },
   "outputs": [],
   "source": [
    "y = predictions.cpu().detach().numpy()\n",
    "p_tresh = 0.1 # выбираем малое значение, так как логит обособляет сужает область принятия 0й метки\n",
    "\n",
    "y[y >= p_tresh] = 1\n",
    "y[y < p_tresh] = 0"
   ]
  },
  {
   "cell_type": "code",
   "execution_count": 148,
   "metadata": {
    "colab": {
     "base_uri": "https://localhost:8080/",
     "height": 34
    },
    "colab_type": "code",
    "id": "rjEjXgU0BOnp",
    "outputId": "67cd1aa0-1a05-454c-acac-11dacabed979"
   },
   "outputs": [
    {
     "data": {
      "text/plain": [
       "0.7215587680703961"
      ]
     },
     "execution_count": 148,
     "metadata": {
      "tags": []
     },
     "output_type": "execute_result"
    }
   ],
   "source": [
    "f1_score(y_true, y)"
   ]
  }
 ],
 "metadata": {
  "accelerator": "GPU",
  "colab": {
   "collapsed_sections": [],
   "name": "exam_var2.ipynb",
   "provenance": []
  },
  "kernelspec": {
   "display_name": "Python 3",
   "language": "python",
   "name": "python3"
  },
  "language_info": {
   "codemirror_mode": {
    "name": "ipython",
    "version": 3
   },
   "file_extension": ".py",
   "mimetype": "text/x-python",
   "name": "python",
   "nbconvert_exporter": "python",
   "pygments_lexer": "ipython3",
   "version": "3.7.7"
  }
 },
 "nbformat": 4,
 "nbformat_minor": 1
}
